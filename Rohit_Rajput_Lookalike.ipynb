{
 "cells": [
  {
   "cell_type": "code",
   "execution_count": 1,
   "metadata": {},
   "outputs": [],
   "source": [
    "import pandas as pd\n",
    "\n",
    "# Load datasets\n",
    "customers_df = pd.read_csv(\"Customers.csv\")\n",
    "products_df = pd.read_csv(\"Products.csv\")\n",
    "transactions_df = pd.read_csv(\"Transactions.csv\")"
   ]
  },
  {
   "cell_type": "code",
   "execution_count": 2,
   "metadata": {},
   "outputs": [],
   "source": [
    "# Merge transactions with customers and products\n",
    "merged_df = pd.merge(transactions_df, customers_df, on='CustomerID', how='left')\n",
    "merged_df = pd.merge(merged_df, products_df, on='ProductID', how='left')"
   ]
  },
  {
   "cell_type": "code",
   "execution_count": 3,
   "metadata": {},
   "outputs": [],
   "source": [
    "# Group by CustomerID and aggregate features\n",
    "customer_features = merged_df.groupby('CustomerID').agg({\n",
    "    'TotalValue': 'sum',  # Total spending\n",
    "    'Quantity': 'sum',    # Total quantity purchased\n",
    "    'TransactionID': 'count',  # Number of transactions\n",
    "    'Region': 'first'  # Region of the customer\n",
    "}).reset_index()"
   ]
  },
  {
   "cell_type": "code",
   "execution_count": 4,
   "metadata": {},
   "outputs": [],
   "source": [
    "# One-hot encode the 'Region' column\n",
    "customer_features = pd.get_dummies(customer_features, columns=['Region'], drop_first=True)"
   ]
  },
  {
   "cell_type": "code",
   "execution_count": 6,
   "metadata": {},
   "outputs": [],
   "source": [
    "from sklearn.preprocessing import StandardScaler\n",
    "\n",
    "# Normalize numerical features\n",
    "scaler = StandardScaler()\n",
    "customer_features[['TotalValue', 'Quantity', 'TransactionID']] = scaler.fit_transform(\n",
    "    customer_features[['TotalValue', 'Quantity', 'TransactionID']]\n",
    ")"
   ]
  },
  {
   "cell_type": "code",
   "execution_count": 7,
   "metadata": {},
   "outputs": [],
   "source": [
    "from sklearn.metrics.pairwise import cosine_similarity\n",
    "\n",
    "# Calculate cosine similarity\n",
    "similarity_matrix = cosine_similarity(customer_features.iloc[:, 1:])  # Exclude CustomerID"
   ]
  },
  {
   "cell_type": "code",
   "execution_count": 8,
   "metadata": {},
   "outputs": [],
   "source": [
    "def get_top_similar_customers(customer_id, similarity_matrix, top_n=3):\n",
    "    # Find the index of the customer\n",
    "    customer_index = customer_features[customer_features['CustomerID'] == customer_id].index[0]\n",
    "    \n",
    "    # Get similarity scores for the customer\n",
    "    similarity_scores = list(enumerate(similarity_matrix[customer_index]))\n",
    "    \n",
    "    # Sort by similarity score (descending order)\n",
    "    similarity_scores = sorted(similarity_scores, key=lambda x: x[1], reverse=True)\n",
    "    \n",
    "    # Exclude the customer itself and get top N similar customers\n",
    "    top_similar_customers = similarity_scores[1:top_n+1]\n",
    "    \n",
    "    # Return CustomerID and similarity score\n",
    "    return [(customer_features.iloc[i]['CustomerID'], score) for i, score in top_similar_customers]"
   ]
  },
  {
   "cell_type": "code",
   "execution_count": 9,
   "metadata": {},
   "outputs": [],
   "source": [
    "# Initialize a dictionary to store results\n",
    "lookalike_map = {}\n",
    "\n",
    "# Get the first 20 customers\n",
    "first_20_customers = customer_features['CustomerID'].head(20)\n",
    "\n",
    "# Generate recommendations for each customer\n",
    "for customer_id in first_20_customers:\n",
    "    lookalike_map[customer_id] = get_top_similar_customers(customer_id, similarity_matrix)"
   ]
  },
  {
   "cell_type": "code",
   "execution_count": 10,
   "metadata": {},
   "outputs": [],
   "source": [
    "# Convert the dictionary to a DataFrame\n",
    "lookalike_df = pd.DataFrame(lookalike_map.items(), columns=['CustomerID', 'Lookalikes'])\n",
    "\n",
    "# Save to CSV\n",
    "lookalike_df.to_csv('FirstName_LastName_Lookalike.csv', index=False)"
   ]
  },
  {
   "cell_type": "code",
   "execution_count": null,
   "metadata": {},
   "outputs": [],
   "source": []
  },
  {
   "cell_type": "code",
   "execution_count": null,
   "metadata": {},
   "outputs": [],
   "source": []
  }
 ],
 "metadata": {
  "kernelspec": {
   "display_name": "Python 3",
   "language": "python",
   "name": "python3"
  },
  "language_info": {
   "codemirror_mode": {
    "name": "ipython",
    "version": 3
   },
   "file_extension": ".py",
   "mimetype": "text/x-python",
   "name": "python",
   "nbconvert_exporter": "python",
   "pygments_lexer": "ipython3",
   "version": "3.12.3"
  }
 },
 "nbformat": 4,
 "nbformat_minor": 2
}
